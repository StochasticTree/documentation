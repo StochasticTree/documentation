{
 "cells": [
  {
   "cell_type": "markdown",
   "metadata": {},
   "source": [
    "# Heteroskedastic Supervised Learning"
   ]
  },
  {
   "cell_type": "markdown",
   "metadata": {},
   "source": [
    "Load necessary libraries"
   ]
  },
  {
   "cell_type": "code",
   "execution_count": null,
   "metadata": {},
   "outputs": [],
   "source": [
    "from math import sqrt\n",
    "\n",
    "import matplotlib.pyplot as plt\n",
    "import numpy as np\n",
    "import pandas as pd\n",
    "import seaborn as sns\n",
    "from sklearn.model_selection import train_test_split\n",
    "\n",
    "from stochtree import BARTModel"
   ]
  },
  {
   "cell_type": "markdown",
   "metadata": {},
   "source": [
    "Generate sample data"
   ]
  },
  {
   "cell_type": "code",
   "execution_count": null,
   "metadata": {},
   "outputs": [],
   "source": [
    "# RNG\n",
    "random_seed = 1234\n",
    "rng = np.random.default_rng(random_seed)\n",
    "\n",
    "# Generate covariates and basis\n",
    "n = 1000\n",
    "p_X = 10\n",
    "p_W = 1\n",
    "X = rng.uniform(0, 1, (n, p_X))\n",
    "W = rng.uniform(0, 1, (n, p_W))\n",
    "\n",
    "\n",
    "# Define the outcome mean function\n",
    "def outcome_mean(X, W):\n",
    "    return np.where(\n",
    "        (X[:, 0] >= 0.0) & (X[:, 0] < 0.25),\n",
    "        -7.5 * W[:, 0],\n",
    "        np.where(\n",
    "            (X[:, 0] >= 0.25) & (X[:, 0] < 0.5),\n",
    "            -2.5 * W[:, 0],\n",
    "            np.where((X[:, 0] >= 0.5) & (X[:, 0] < 0.75), 2.5 * W[:, 0], 7.5 * W[:, 0]),\n",
    "        ),\n",
    "    )\n",
    "\n",
    "\n",
    "# Define the outcome standard deviation function\n",
    "def outcome_stddev(X):\n",
    "    return np.where(\n",
    "        (X[:, 1] >= 0.0) & (X[:, 1] < 0.25),\n",
    "        sqrt(0.5),\n",
    "        np.where(\n",
    "            (X[:, 1] >= 0.25) & (X[:, 1] < 0.5),\n",
    "            1.0,\n",
    "            np.where((X[:, 1] >= 0.5) & (X[:, 1] < 0.75), 2.0, 3.0),\n",
    "        ),\n",
    "    )\n",
    "\n",
    "\n",
    "# Generate outcome\n",
    "epsilon = rng.normal(0, 1, n)\n",
    "f_x = outcome_mean(X, W)\n",
    "s_x = outcome_stddev(X)\n",
    "y = f_x + epsilon * s_x\n",
    "\n",
    "# Standardize outcome\n",
    "y_bar = np.mean(y)\n",
    "y_std = np.std(y)\n",
    "resid = (y - y_bar) / y_std"
   ]
  },
  {
   "cell_type": "markdown",
   "metadata": {},
   "source": [
    "Test-train split"
   ]
  },
  {
   "cell_type": "code",
   "execution_count": null,
   "metadata": {},
   "outputs": [],
   "source": [
    "sample_inds = np.arange(n)\n",
    "train_inds, test_inds = train_test_split(sample_inds, test_size=0.5)\n",
    "X_train = X[train_inds, :]\n",
    "X_test = X[test_inds, :]\n",
    "basis_train = W[train_inds, :]\n",
    "basis_test = W[test_inds, :]\n",
    "y_train = y[train_inds]\n",
    "y_test = y[test_inds]\n",
    "f_x_train = f_x[train_inds]\n",
    "f_x_test = f_x[test_inds]\n",
    "s_x_train = s_x[train_inds]\n",
    "s_x_test = s_x[test_inds]"
   ]
  },
  {
   "cell_type": "markdown",
   "metadata": {},
   "source": [
    "Run BART"
   ]
  },
  {
   "cell_type": "code",
   "execution_count": null,
   "metadata": {},
   "outputs": [],
   "source": [
    "bart_model = BARTModel()\n",
    "global_params = {\"sample_sigma2_global\": True}\n",
    "mean_params = {\"num_trees\": 100, \"sample_sigma2_leaf\": False}\n",
    "variance_params = {\"num_trees\": 50}\n",
    "bart_model.sample(\n",
    "    X_train=X_train,\n",
    "    y_train=y_train,\n",
    "    X_test=X_test,\n",
    "    leaf_basis_train=basis_train,\n",
    "    leaf_basis_test=basis_test,\n",
    "    num_gfr=10,\n",
    "    num_mcmc=100,\n",
    "    general_params=global_params,\n",
    "    mean_forest_params=mean_params,\n",
    "    variance_forest_params=variance_params,\n",
    ")"
   ]
  },
  {
   "cell_type": "markdown",
   "metadata": {},
   "source": [
    "Inspect the MCMC (BART) samples"
   ]
  },
  {
   "cell_type": "code",
   "execution_count": null,
   "metadata": {},
   "outputs": [],
   "source": [
    "forest_preds_y_mcmc = bart_model.y_hat_test\n",
    "y_avg_mcmc = np.squeeze(forest_preds_y_mcmc).mean(axis=1, keepdims=True)\n",
    "y_df_mcmc = pd.DataFrame(\n",
    "    np.concatenate((np.expand_dims(y_test, 1), y_avg_mcmc), axis=1),\n",
    "    columns=[\"True outcome\", \"Average estimated outcome\"],\n",
    ")\n",
    "sns.scatterplot(data=y_df_mcmc, x=\"Average estimated outcome\", y=\"True outcome\")\n",
    "plt.axline((0, 0), slope=1, color=\"black\", linestyle=(0, (3, 3)))\n",
    "plt.show()"
   ]
  },
  {
   "cell_type": "code",
   "execution_count": null,
   "metadata": {},
   "outputs": [],
   "source": [
    "forest_preds_s_x_mcmc = np.sqrt(bart_model.sigma2_x_test)\n",
    "s_x_avg_mcmc = np.squeeze(forest_preds_s_x_mcmc).mean(axis=1, keepdims=True)\n",
    "s_x_df_mcmc = pd.DataFrame(\n",
    "    np.concatenate((np.expand_dims(s_x_test, 1), s_x_avg_mcmc), axis=1),\n",
    "    columns=[\"True standard deviation\", \"Average estimated standard deviation\"],\n",
    ")\n",
    "sns.scatterplot(\n",
    "    data=s_x_df_mcmc,\n",
    "    x=\"Average estimated standard deviation\",\n",
    "    y=\"True standard deviation\",\n",
    ")\n",
    "plt.axline((0, 0), slope=1, color=\"black\", linestyle=(0, (3, 3)))\n",
    "plt.show()"
   ]
  },
  {
   "cell_type": "code",
   "execution_count": null,
   "metadata": {},
   "outputs": [],
   "source": [
    "sigma_df_mcmc = pd.DataFrame(\n",
    "    np.concatenate(\n",
    "        (\n",
    "            np.expand_dims(np.arange(bart_model.global_var_samples.shape[0]), axis=1),\n",
    "            np.expand_dims(bart_model.global_var_samples, axis=1),\n",
    "        ),\n",
    "        axis=1,\n",
    "    ),\n",
    "    columns=[\"Sample\", \"Sigma\"],\n",
    ")\n",
    "sns.scatterplot(data=sigma_df_mcmc, x=\"Sample\", y=\"Sigma\")\n",
    "plt.show()"
   ]
  },
  {
   "cell_type": "markdown",
   "metadata": {},
   "source": [
    "Compute the test set RMSE"
   ]
  },
  {
   "cell_type": "code",
   "execution_count": null,
   "metadata": {},
   "outputs": [],
   "source": [
    "np.sqrt(np.mean(np.power(y_test - np.squeeze(y_avg_mcmc), 2)))"
   ]
  }
 ],
 "metadata": {
  "kernelspec": {
   "display_name": "venv",
   "language": "python",
   "name": "python3"
  },
  "language_info": {
   "codemirror_mode": {
    "name": "ipython",
    "version": 3
   },
   "file_extension": ".py",
   "mimetype": "text/x-python",
   "name": "python",
   "nbconvert_exporter": "python",
   "pygments_lexer": "ipython3",
   "version": "3.8.17"
  }
 },
 "nbformat": 4,
 "nbformat_minor": 2
}
