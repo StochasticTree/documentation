{
 "cells": [
  {
   "cell_type": "markdown",
   "metadata": {},
   "source": [
    "# Multivariate Treatment Causal Inference"
   ]
  },
  {
   "cell_type": "markdown",
   "metadata": {},
   "source": [
    "Load necessary libraries"
   ]
  },
  {
   "cell_type": "code",
   "execution_count": null,
   "metadata": {},
   "outputs": [],
   "source": [
    "import matplotlib.pyplot as plt\n",
    "import numpy as np\n",
    "import pandas as pd\n",
    "import seaborn as sns\n",
    "from sklearn.model_selection import train_test_split\n",
    "\n",
    "from stochtree import BCFModel"
   ]
  },
  {
   "cell_type": "markdown",
   "metadata": {},
   "source": [
    "Generate sample data"
   ]
  },
  {
   "cell_type": "code",
   "execution_count": null,
   "metadata": {},
   "outputs": [],
   "source": [
    "# RNG\n",
    "rng = np.random.default_rng()\n",
    "\n",
    "# Generate covariates and basis\n",
    "n = 500\n",
    "p_X = 5\n",
    "X = rng.uniform(0, 1, (n, p_X))\n",
    "pi_X = np.c_[0.25 + 0.5 * X[:, 0], 0.75 - 0.5 * X[:, 1]]\n",
    "# Z = rng.uniform(0, 1, (n, 2))\n",
    "Z = rng.binomial(1, pi_X, (n, 2))\n",
    "\n",
    "# Define the outcome mean functions (prognostic and treatment effects)\n",
    "mu_X = pi_X[:, 0] * 5 + pi_X[:, 1] * 2 + 2 * X[:, 2]\n",
    "tau_X = np.stack((X[:, 1], X[:, 2]), axis=-1)\n",
    "\n",
    "# Generate outcome\n",
    "epsilon = rng.normal(0, 1, n)\n",
    "treatment_term = np.multiply(tau_X, Z).sum(axis=1)\n",
    "y = mu_X + treatment_term + epsilon"
   ]
  },
  {
   "cell_type": "markdown",
   "metadata": {},
   "source": [
    "Test-train split"
   ]
  },
  {
   "cell_type": "code",
   "execution_count": null,
   "metadata": {},
   "outputs": [],
   "source": [
    "sample_inds = np.arange(n)\n",
    "train_inds, test_inds = train_test_split(sample_inds, test_size=0.5)\n",
    "X_train = X[train_inds, :]\n",
    "X_test = X[test_inds, :]\n",
    "Z_train = Z[train_inds, :]\n",
    "Z_test = Z[test_inds, :]\n",
    "y_train = y[train_inds]\n",
    "y_test = y[test_inds]\n",
    "pi_train = pi_X[train_inds]\n",
    "pi_test = pi_X[test_inds]\n",
    "mu_train = mu_X[train_inds]\n",
    "mu_test = mu_X[test_inds]\n",
    "tau_train = tau_X[train_inds, :]\n",
    "tau_test = tau_X[test_inds, :]"
   ]
  },
  {
   "cell_type": "markdown",
   "metadata": {},
   "source": [
    "Run BCF"
   ]
  },
  {
   "cell_type": "code",
   "execution_count": null,
   "metadata": {},
   "outputs": [],
   "source": [
    "bcf_model = BCFModel()\n",
    "bcf_model.sample(\n",
    "    X_train=X_train,\n",
    "    Z_train=Z_train,\n",
    "    y_train=y_train,\n",
    "    pi_train=pi_train,\n",
    "    X_test=X_test,\n",
    "    Z_test=Z_test,\n",
    "    pi_test=pi_test,\n",
    "    num_gfr=10,\n",
    "    num_mcmc=100,\n",
    ")"
   ]
  },
  {
   "cell_type": "markdown",
   "metadata": {},
   "source": [
    "Inspect the MCMC (BART) samples"
   ]
  },
  {
   "cell_type": "code",
   "execution_count": null,
   "metadata": {},
   "outputs": [],
   "source": [
    "forest_preds_y_mcmc = bcf_model.y_hat_test\n",
    "y_avg_mcmc = np.squeeze(forest_preds_y_mcmc).mean(axis=1, keepdims=True)\n",
    "y_df_mcmc = pd.DataFrame(\n",
    "    np.concatenate((np.expand_dims(y_test, 1), y_avg_mcmc), axis=1),\n",
    "    columns=[\"True outcome\", \"Average estimated outcome\"],\n",
    ")\n",
    "sns.scatterplot(data=y_df_mcmc, x=\"Average estimated outcome\", y=\"True outcome\")\n",
    "plt.axline((0, 0), slope=1, color=\"black\", linestyle=(0, (3, 3)))\n",
    "plt.show()"
   ]
  },
  {
   "cell_type": "code",
   "execution_count": null,
   "metadata": {},
   "outputs": [],
   "source": [
    "np.sqrt(np.mean(np.power(y_avg_mcmc - y_test, 2)))"
   ]
  },
  {
   "cell_type": "code",
   "execution_count": null,
   "metadata": {},
   "outputs": [],
   "source": [
    "treatment_idx = 0\n",
    "forest_preds_tau_mcmc = np.squeeze(bcf_model.tau_hat_test[:, :, treatment_idx])\n",
    "tau_avg_mcmc = np.squeeze(forest_preds_tau_mcmc).mean(axis=1, keepdims=True)\n",
    "tau_df_mcmc = pd.DataFrame(\n",
    "    np.concatenate(\n",
    "        (np.expand_dims(tau_test[:, treatment_idx], 1), tau_avg_mcmc), axis=1\n",
    "    ),\n",
    "    columns=[\"True tau\", \"Average estimated tau\"],\n",
    ")\n",
    "sns.scatterplot(data=tau_df_mcmc, x=\"True tau\", y=\"Average estimated tau\")\n",
    "plt.axline((0, 0), slope=1, color=\"black\", linestyle=(0, (3, 3)))\n",
    "plt.show()"
   ]
  },
  {
   "cell_type": "code",
   "execution_count": null,
   "metadata": {},
   "outputs": [],
   "source": [
    "treatment_idx = 1\n",
    "forest_preds_tau_mcmc = np.squeeze(bcf_model.tau_hat_test[:, :, treatment_idx])\n",
    "tau_avg_mcmc = np.squeeze(forest_preds_tau_mcmc).mean(axis=1, keepdims=True)\n",
    "tau_df_mcmc = pd.DataFrame(\n",
    "    np.concatenate(\n",
    "        (np.expand_dims(tau_test[:, treatment_idx], 1), tau_avg_mcmc), axis=1\n",
    "    ),\n",
    "    columns=[\"True tau\", \"Average estimated tau\"],\n",
    ")\n",
    "sns.scatterplot(data=tau_df_mcmc, x=\"True tau\", y=\"Average estimated tau\")\n",
    "plt.axline((0, 0), slope=1, color=\"black\", linestyle=(0, (3, 3)))\n",
    "plt.show()"
   ]
  },
  {
   "cell_type": "code",
   "execution_count": null,
   "metadata": {},
   "outputs": [],
   "source": [
    "treatment_term_mcmc_test = np.multiply(\n",
    "    np.atleast_3d(Z_test).swapaxes(1, 2), bcf_model.tau_hat_test\n",
    ").sum(axis=2)\n",
    "treatment_term_test = np.multiply(tau_test, Z_test).sum(axis=1)\n",
    "treatment_term_mcmc_avg = np.squeeze(treatment_term_mcmc_test).mean(\n",
    "    axis=1, keepdims=True\n",
    ")\n",
    "mu_df_mcmc = pd.DataFrame(\n",
    "    np.concatenate(\n",
    "        (np.expand_dims(treatment_term_test, 1), treatment_term_mcmc_avg), axis=1\n",
    "    ),\n",
    "    columns=[\"True treatment term\", \"Average estimated treatment term\"],\n",
    ")\n",
    "sns.scatterplot(\n",
    "    data=mu_df_mcmc, x=\"True treatment term\", y=\"Average estimated treatment term\"\n",
    ")\n",
    "plt.axline((0, 0), slope=1, color=\"black\", linestyle=(0, (3, 3)))\n",
    "plt.show()"
   ]
  },
  {
   "cell_type": "code",
   "execution_count": null,
   "metadata": {},
   "outputs": [],
   "source": [
    "forest_preds_mu_mcmc = bcf_model.mu_hat_test\n",
    "mu_avg_mcmc = np.squeeze(forest_preds_mu_mcmc).mean(axis=1, keepdims=True)\n",
    "mu_df_mcmc = pd.DataFrame(\n",
    "    np.concatenate((np.expand_dims(mu_test, 1), mu_avg_mcmc), axis=1),\n",
    "    columns=[\"True mu\", \"Average estimated mu\"],\n",
    ")\n",
    "sns.scatterplot(data=mu_df_mcmc, x=\"True mu\", y=\"Average estimated mu\")\n",
    "plt.axline((0, 0), slope=1, color=\"black\", linestyle=(0, (3, 3)))\n",
    "plt.show()"
   ]
  },
  {
   "cell_type": "code",
   "execution_count": null,
   "metadata": {},
   "outputs": [],
   "source": [
    "sigma_df_mcmc = pd.DataFrame(\n",
    "    np.concatenate(\n",
    "        (\n",
    "            np.expand_dims(\n",
    "                np.arange(bcf_model.num_samples - bcf_model.num_gfr), axis=1\n",
    "            ),\n",
    "            np.expand_dims(bcf_model.global_var_samples[bcf_model.num_gfr :], axis=1),\n",
    "        ),\n",
    "        axis=1,\n",
    "    ),\n",
    "    columns=[\"Sample\", \"Sigma\"],\n",
    ")\n",
    "sns.scatterplot(data=sigma_df_mcmc, x=\"Sample\", y=\"Sigma\")\n",
    "plt.show()"
   ]
  }
 ],
 "metadata": {
  "kernelspec": {
   "display_name": "Python 3",
   "language": "python",
   "name": "python3"
  },
  "language_info": {
   "codemirror_mode": {
    "name": "ipython",
    "version": 3
   },
   "file_extension": ".py",
   "mimetype": "text/x-python",
   "name": "python",
   "nbconvert_exporter": "python",
   "pygments_lexer": "ipython3",
   "version": "3.10.14"
  }
 },
 "nbformat": 4,
 "nbformat_minor": 2
}
